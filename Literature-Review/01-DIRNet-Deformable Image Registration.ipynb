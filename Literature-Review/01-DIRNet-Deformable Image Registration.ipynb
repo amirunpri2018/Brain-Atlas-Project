{
 "cells": [
  {
   "cell_type": "markdown",
   "metadata": {},
   "source": [
    "## End-to-End Unsupervised Deformable Image Registration with a Convolutional Neural Network\n",
    "### Authors: de Vos, B. D., Berendsen, F. F., Viergever, M. A., Staring, M., & Išgum, I. (2017)    \n",
    "Citations: 46  \n",
    "BibTeX:  \n",
    "@incollection{de2017end,\n",
    "  title={End-to-end unsupervised deformable image registration with a convolutional neural network},\n",
    "  author={de Vos, Bob D and Berendsen, Floris F and Viergever, Max A and Staring, Marius and I{\\v{s}}gum, Ivana},\n",
    "  booktitle={Deep Learning in Medical Image Analysis and Multimodal Learning for Clinical Decision Support},\n",
    "  pages={204--212},\n",
    "  year={2017},\n",
    "  publisher={Springer}\n",
    "}"
   ]
  },
  {
   "cell_type": "markdown",
   "metadata": {},
   "source": [
    "## $1^{st}$ Pass\n",
    "\n",
    "- **Category:** Deformable Image registration using unsupervised training data i.e. only the fixed and moving images are available\n",
    "- **Context:** Pioneering work; other research papers such use labelled training data.\n",
    "    Related papers using labelled data for training:  \n",
    "  - Convolutional Stacked Autoencoder - Wu et. al. (Extracts features and then does registration) - similar to our current approach using SURF\n",
    "  - Spatial Transformer Networks - Jaderberg et. al. (Registration using thin-plate splines)\n",
    "  - An artificial agent for robust image registration - Liao et. al. (Uses RL to generate transformation params for rigid registration)\n",
    "  - Real-time 2D/3D Registration via CNN Regression - Miao et. al. (Predicts transformation matrix for rigid registration)  \n",
    "- **Correctness:** Uses normalized cross-correlation as similarity metric for ConvNet regressor\n",
    "- **Contributions:** End-to-end single ConvNet for registration without labelled training data \n",
    "- **Clarity:** Well written paper validated with experiments on MNIST and cardiac MRI data"
   ]
  },
  {
   "cell_type": "markdown",
   "metadata": {},
   "source": [
    "## $2^{nd}$ Pass"
   ]
  },
  {
   "cell_type": "code",
   "execution_count": null,
   "metadata": {},
   "outputs": [],
   "source": []
  }
 ],
 "metadata": {
  "kernelspec": {
   "display_name": "Python 3",
   "language": "python",
   "name": "python3"
  },
  "language_info": {
   "codemirror_mode": {
    "name": "ipython",
    "version": 3
   },
   "file_extension": ".py",
   "mimetype": "text/x-python",
   "name": "python",
   "nbconvert_exporter": "python",
   "pygments_lexer": "ipython3",
   "version": "3.5.4"
  },
  "widgets": {
   "state": {},
   "version": "1.1.2"
  }
 },
 "nbformat": 4,
 "nbformat_minor": 2
}
