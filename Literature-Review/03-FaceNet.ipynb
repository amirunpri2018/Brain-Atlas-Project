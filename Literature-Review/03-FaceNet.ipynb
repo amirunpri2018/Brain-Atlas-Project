{
 "cells": [
  {
   "cell_type": "markdown",
   "metadata": {},
   "source": [
    "## FaceNet: A Unified Embedding for Face Recognition and Clustering\n",
    "### Authors: Florian Schroff, Dmitry Kalenichenko, James Philbin\n",
    "Citations: 1200+  \n",
    "BibTeX:  \n"
   ]
  },
  {
   "cell_type": "markdown",
   "metadata": {},
   "source": [
    "## $1^{st}$ Pass\n",
    "\n",
    "- **Category:** Module to add spatial invariance.\n",
    "- **Context:** Addition of a spatial transformer module to spatially manipulate data within a network. The spatial transformer module is a dynamic mechanism that can actively spatially transform an image (or a feature map) by producing an appropriate transformation for each input sample. The transformation is then performed on the entire feature map (non-locally) and can include scaling, cropping, rotations, as well as non-rigid deformations. Can be used for:\n",
    "  - image classification\n",
    "  - co-localization\n",
    "  - spatial attention.\n",
    "- **Correctness:** With a lot of training data, the method should be feasible.\n",
    "- **Contributions:** Module that can be trained using back-prop; en-to-end training; no change in loss function is required.\n",
    "- **Clarity:** Well written paper validated with experiments on a few datasets"
   ]
  },
  {
   "cell_type": "code",
   "execution_count": null,
   "metadata": {},
   "outputs": [],
   "source": []
  }
 ],
 "metadata": {
  "kernelspec": {
   "display_name": "Python 3",
   "language": "python",
   "name": "python3"
  },
  "language_info": {
   "codemirror_mode": {
    "name": "ipython",
    "version": 3
   },
   "file_extension": ".py",
   "mimetype": "text/x-python",
   "name": "python",
   "nbconvert_exporter": "python",
   "pygments_lexer": "ipython3",
   "version": "3.5.4"
  },
  "widgets": {
   "state": {},
   "version": "1.1.2"
  }
 },
 "nbformat": 4,
 "nbformat_minor": 2
}
